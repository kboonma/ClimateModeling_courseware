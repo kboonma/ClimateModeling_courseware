{
 "cells": [
  {
   "cell_type": "markdown",
   "metadata": {},
   "source": [
    "# Introduction to climlab and 1D grey radiation models"
   ]
  },
  {
   "cell_type": "code",
   "execution_count": 74,
   "metadata": {},
   "outputs": [],
   "source": [
    "%matplotlib inline\n",
    "import numpy as np\n",
    "import matplotlib.pyplot as plt\n",
    "import netCDF4 as nc\n",
    "import climlab"
   ]
  },
  {
   "cell_type": "markdown",
   "metadata": {},
   "source": [
    "# Validate climlab against analytical solution for 2-layer atmosphere"
   ]
  },
  {
   "cell_type": "code",
   "execution_count": 75,
   "metadata": {},
   "outputs": [
    {
     "name": "stdout",
     "output_type": "stream",
     "text": [
      "climlab Process of type <class 'climlab.model.column.GreyRadiationModel'>. \n",
      "State variables and domain shapes: \n",
      "  Ts: (1,) \n",
      "  Tatm: (2,) \n",
      "The subprocess tree: \n",
      "Untitled: <class 'climlab.model.column.GreyRadiationModel'>\n",
      "   LW: <class 'climlab.radiation.greygas.GreyGas'>\n",
      "   SW: <class 'climlab.radiation.greygas.GreyGasSW'>\n",
      "   insolation: <class 'climlab.radiation.insolation.FixedInsolation'>\n",
      "\n"
     ]
    }
   ],
   "source": [
    "#  Test in a 2-layer atmosphere\n",
    "col = climlab.GreyRadiationModel(num_lev=2)\n",
    "print(col)"
   ]
  },
  {
   "cell_type": "code",
   "execution_count": 76,
   "metadata": {},
   "outputs": [
    {
     "data": {
      "text/plain": [
       "AttrDict({'LW': <climlab.radiation.greygas.GreyGas object at 0x7f8df92bef70>, 'SW': <climlab.radiation.greygas.GreyGasSW object at 0x7f8df925caf0>, 'insolation': <climlab.radiation.insolation.FixedInsolation object at 0x7f8df925ceb0>})"
      ]
     },
     "execution_count": 76,
     "metadata": {},
     "output_type": "execute_result"
    }
   ],
   "source": [
    "col.subprocess"
   ]
  },
  {
   "cell_type": "code",
   "execution_count": 77,
   "metadata": {},
   "outputs": [
    {
     "data": {
      "text/plain": [
       "AttrDict({'Ts': Field([288.]), 'Tatm': Field([200., 278.])})"
      ]
     },
     "execution_count": 77,
     "metadata": {},
     "output_type": "execute_result"
    }
   ],
   "source": [
    "col.state"
   ]
  },
  {
   "cell_type": "code",
   "execution_count": 78,
   "metadata": {},
   "outputs": [
    {
     "data": {
      "text/plain": [
       "Field([288.])"
      ]
     },
     "execution_count": 78,
     "metadata": {},
     "output_type": "execute_result"
    }
   ],
   "source": [
    "col.Ts"
   ]
  },
  {
   "cell_type": "code",
   "execution_count": 79,
   "metadata": {},
   "outputs": [
    {
     "data": {
      "text/plain": [
       "AttrDict({'Ts': Field([288.]), 'Tatm': Field([275., 230.])})"
      ]
     },
     "execution_count": 79,
     "metadata": {},
     "output_type": "execute_result"
    }
   ],
   "source": [
    "col.Ts[:] = 288.\n",
    "col.Tatm[:] = np.array([275., 230.])\n",
    "col.state"
   ]
  },
  {
   "cell_type": "code",
   "execution_count": 80,
   "metadata": {},
   "outputs": [
    {
     "name": "stdout",
     "output_type": "stream",
     "text": [
      "climlab Process of type <class 'climlab.radiation.greygas.GreyGas'>. \n",
      "State variables and domain shapes: \n",
      "  Ts: (1,) \n",
      "  Tatm: (2,) \n",
      "The subprocess tree: \n",
      "Untitled: <class 'climlab.radiation.greygas.GreyGas'>\n",
      "\n"
     ]
    }
   ],
   "source": [
    "LW = col.subprocess['LW']\n",
    "print (LW)"
   ]
  },
  {
   "cell_type": "code",
   "execution_count": 81,
   "metadata": {},
   "outputs": [
    {
     "data": {
      "text/plain": [
       "Field([0.47737425, 0.47737425])"
      ]
     },
     "execution_count": 81,
     "metadata": {},
     "output_type": "execute_result"
    }
   ],
   "source": [
    "LW.absorptivity"
   ]
  },
  {
   "cell_type": "code",
   "execution_count": 82,
   "metadata": {},
   "outputs": [
    {
     "data": {
      "text/plain": [
       "Field([0.58377, 0.58377])"
      ]
     },
     "execution_count": 82,
     "metadata": {},
     "output_type": "execute_result"
    }
   ],
   "source": [
    "LW.absorptivity = 0.58377\n",
    "LW.absorptivity"
   ]
  },
  {
   "cell_type": "code",
   "execution_count": 83,
   "metadata": {},
   "outputs": [
    {
     "data": {
      "text/plain": [
       "{'flux_from_sfc': Field([0.]),\n",
       " 'flux_to_sfc': Field([0.]),\n",
       " 'flux_to_space': Field([0.]),\n",
       " 'absorbed': Field([0., 0.]),\n",
       " 'absorbed_total': Field([0.]),\n",
       " 'emission': Field([0., 0.]),\n",
       " 'emission_sfc': Field([0.]),\n",
       " 'flux_reflected_up': None,\n",
       " 'insolation': Field([341.3]),\n",
       " 'coszen': Field([1.]),\n",
       " 'OLR': None,\n",
       " 'LW_down_sfc': None,\n",
       " 'LW_up_sfc': None,\n",
       " 'LW_absorbed_sfc': None,\n",
       " 'LW_absorbed_atm': None,\n",
       " 'LW_emission': None,\n",
       " 'ASR': None,\n",
       " 'SW_absorbed_sfc': None,\n",
       " 'SW_absorbed_atm': None,\n",
       " 'SW_up_sfc': None,\n",
       " 'SW_up_TOA': None,\n",
       " 'SW_down_TOA': None,\n",
       " 'planetary_albedo': None}"
      ]
     },
     "execution_count": 83,
     "metadata": {},
     "output_type": "execute_result"
    }
   ],
   "source": [
    "col.diagnostics"
   ]
  },
  {
   "cell_type": "code",
   "execution_count": 84,
   "metadata": {},
   "outputs": [
    {
     "data": {
      "text/plain": [
       "{'flux_from_sfc': Field([102.0487]),\n",
       " 'flux_to_sfc': array([341.3]),\n",
       " 'flux_to_space': array([102.0487]),\n",
       " 'absorbed': array([0., 0.]),\n",
       " 'absorbed_total': 0.0,\n",
       " 'emission': Field([0., 0.]),\n",
       " 'emission_sfc': Field([0.]),\n",
       " 'flux_reflected_up': array([  0.    ,   0.    , 102.0487]),\n",
       " 'insolation': Field([341.3]),\n",
       " 'coszen': Field([1.]),\n",
       " 'OLR': array([295.45584781]),\n",
       " 'LW_down_sfc': array([171.43120688]),\n",
       " 'LW_up_sfc': Field([390.10502995]),\n",
       " 'LW_absorbed_sfc': Field([-218.67382308]),\n",
       " 'LW_absorbed_atm': array([-229.76426433,  152.9822396 ]),\n",
       " 'LW_emission': Field([189.31461699,  92.63278385]),\n",
       " 'ASR': Field([239.2513]),\n",
       " 'SW_absorbed_sfc': Field([239.2513]),\n",
       " 'SW_absorbed_atm': array([0., 0.]),\n",
       " 'SW_up_sfc': Field([102.0487]),\n",
       " 'SW_up_TOA': array([102.0487]),\n",
       " 'SW_down_TOA': Field([341.3]),\n",
       " 'planetary_albedo': Field([0.299])}"
      ]
     },
     "execution_count": 84,
     "metadata": {},
     "output_type": "execute_result"
    }
   ],
   "source": [
    "col.compute_diagnostics()\n",
    "col.diagnostics"
   ]
  },
  {
   "cell_type": "code",
   "execution_count": 85,
   "metadata": {},
   "outputs": [
    {
     "data": {
      "text/plain": [
       "array([295.45584781])"
      ]
     },
     "execution_count": 85,
     "metadata": {},
     "output_type": "execute_result"
    }
   ],
   "source": [
    "col.diagnostics['OLR']"
   ]
  },
  {
   "cell_type": "code",
   "execution_count": 86,
   "metadata": {},
   "outputs": [
    {
     "data": {
      "text/plain": [
       "AttrDict({'Ts': Field([288.]), 'Tatm': Field([275., 230.])})"
      ]
     },
     "execution_count": 86,
     "metadata": {},
     "output_type": "execute_result"
    }
   ],
   "source": [
    "col.state"
   ]
  },
  {
   "cell_type": "code",
   "execution_count": 87,
   "metadata": {},
   "outputs": [],
   "source": [
    "col.step_forward()"
   ]
  },
  {
   "cell_type": "code",
   "execution_count": 88,
   "metadata": {},
   "outputs": [
    {
     "data": {
      "text/plain": [
       "AttrDict({'Ts': Field([288.42520125]), 'Tatm': Field([271.12458172, 232.58034107])})"
      ]
     },
     "execution_count": 88,
     "metadata": {},
     "output_type": "execute_result"
    }
   ],
   "source": [
    "col.state"
   ]
  },
  {
   "cell_type": "code",
   "execution_count": 89,
   "metadata": {},
   "outputs": [
    {
     "name": "stdout",
     "output_type": "stream",
     "text": [
      "Integrating for 730 steps, 730.4844 days, or 2.0 years.\n",
      "Total elapsed time is 2.0014116660123062 years.\n"
     ]
    }
   ],
   "source": [
    "# integrate out to radiative equilibrium\n",
    "col.integrate_years(2.)"
   ]
  },
  {
   "cell_type": "code",
   "execution_count": 90,
   "metadata": {},
   "outputs": [
    {
     "data": {
      "text/plain": [
       "Field([5.95677875e-07])"
      ]
     },
     "execution_count": 90,
     "metadata": {},
     "output_type": "execute_result"
    }
   ],
   "source": [
    "col.diagnostics['ASR'] - col.diagnostics['OLR']"
   ]
  },
  {
   "cell_type": "code",
   "execution_count": 91,
   "metadata": {},
   "outputs": [
    {
     "data": {
      "text/plain": [
       "AttrDict({'Ts': Field([296.20384518]), 'Tatm': Field([233.62925764, 262.08988311])})"
      ]
     },
     "execution_count": 91,
     "metadata": {},
     "output_type": "execute_result"
    }
   ],
   "source": [
    "#  Compare these temperatures against our analytical solutions for radiative equilibrium\n",
    "col.state"
   ]
  },
  {
   "cell_type": "markdown",
   "metadata": {},
   "source": [
    "# Get observed annual, global mean temperature profile"
   ]
  },
  {
   "cell_type": "code",
   "execution_count": 92,
   "metadata": {},
   "outputs": [],
   "source": [
    "ncep_url = \"http://www.esrl.noaa.gov/psd/thredds/dodsC/Datasets/ncep.reanalysis.derived/\"\n",
    "ncep_air = nc.Dataset( ncep_url + \"pressure/air.mon.1981-2010.ltm.nc\" )\n",
    "level = ncep_air.variables['level'][:]\n",
    "lat = ncep_air.variables['lat'][:]\n",
    "zstar = np.log(level/1000)"
   ]
  },
  {
   "cell_type": "code",
   "execution_count": 93,
   "metadata": {},
   "outputs": [],
   "source": [
    "Tzon = np.mean(ncep_air.variables['air'][:],axis=(0,3))\n",
    "Tglobal = np.average( Tzon , weights=np.cos(np.deg2rad(lat)), axis=1) + climlab.constants.tempCtoK"
   ]
  },
  {
   "cell_type": "code",
   "execution_count": 94,
   "metadata": {},
   "outputs": [
    {
     "data": {
      "image/png": "[encoded data removed]",
      "text/plain": [
       "<Figure size 576x432 with 1 Axes>"
      ]
     },
     "metadata": {
      "needs_background": "light"
     },
     "output_type": "display_data"
    }
   ],
   "source": [
    "fig = plt.figure( figsize=(8,6) )\n",
    "ax = fig.add_subplot(111)\n",
    "ax.plot( Tglobal , level )\n",
    "ax.invert_yaxis()\n",
    "ax.set_xlabel('Temperature (K)', fontsize=16)\n",
    "ax.set_ylabel('Pressure (hPa)', fontsize=16 )\n",
    "ax.set_title('Global, annual mean sounding from NCEP Reanalysis', fontsize = 24)\n",
    "ax.grid()"
   ]
  },
  {
   "cell_type": "markdown",
   "metadata": {},
   "source": [
    "# Create 30-layer model with observed temperatures"
   ]
  },
  {
   "cell_type": "code",
   "execution_count": 95,
   "metadata": {},
   "outputs": [
    {
     "name": "stdout",
     "output_type": "stream",
     "text": [
      "climlab Process of type <class 'climlab.model.column.GreyRadiationModel'>. \n",
      "State variables and domain shapes: \n",
      "  Ts: (1,) \n",
      "  Tatm: (30,) \n",
      "The subprocess tree: \n",
      "Untitled: <class 'climlab.model.column.GreyRadiationModel'>\n",
      "   LW: <class 'climlab.radiation.greygas.GreyGas'>\n",
      "   SW: <class 'climlab.radiation.greygas.GreyGasSW'>\n",
      "   insolation: <class 'climlab.radiation.insolation.FixedInsolation'>\n",
      "\n"
     ]
    }
   ],
   "source": [
    "#  initialize a grey radiation model with 30 levels\n",
    "col = climlab.GreyRadiationModel()\n",
    "print (col)"
   ]
  },
  {
   "cell_type": "code",
   "execution_count": 96,
   "metadata": {},
   "outputs": [],
   "source": [
    "# interpolate to 30 evenly spaced pressure levels\n",
    "lev = col.lev"
   ]
  },
  {
   "cell_type": "code",
   "execution_count": 97,
   "metadata": {},
   "outputs": [
    {
     "data": {
      "text/plain": [
       "array([224.34736633, 211.66334534, 206.96233453, 208.29142761,\n",
       "       212.58644104, 217.19397481, 221.78252157, 226.3520813 ,\n",
       "       231.30422974, 236.08017476, 240.67991638, 245.279658  ,\n",
       "       249.35979716, 252.92033386, 256.48087056, 259.66789246,\n",
       "       262.48139954, 265.29490662, 267.81303914, 270.03579712,\n",
       "       272.25855509, 274.21642049, 275.90939331, 277.60236613,\n",
       "       279.29533895, 280.98831177, 282.48550415, 283.98269653,\n",
       "       285.6810201 , 287.4463874 ])"
      ]
     },
     "execution_count": 97,
     "metadata": {},
     "output_type": "execute_result"
    }
   ],
   "source": [
    "Tinterp = np.flipud(np.interp(np.flipud(lev), np.flipud(level), np.flipud(Tglobal)))\n",
    "Tinterp"
   ]
  },
  {
   "cell_type": "code",
   "execution_count": 98,
   "metadata": {},
   "outputs": [],
   "source": [
    "# Initialize model with observed temperatures\n",
    "col.Ts[:] = Tglobal[0]\n",
    "col.Tatm[:] = Tinterp"
   ]
  },
  {
   "cell_type": "code",
   "execution_count": 99,
   "metadata": {},
   "outputs": [],
   "source": [
    "def plot_sounding(collist):\n",
    "    color_cycle=['r', 'g', 'b', 'y']\n",
    "    # col is either a column model object or a list of column model objects\n",
    "    if isinstance(collist, climlab.Process):\n",
    "        # make a list with a single item\n",
    "        collist = [collist]\n",
    "    fig = plt.figure()\n",
    "    ax = fig.add_subplot(111)\n",
    "    for i, col in enumerate(collist):\n",
    "        ax.plot(col.Tatm, col.lev, color=color_cycle[i])\n",
    "        ax.plot(col.Ts, climlab.constants.ps, 'o', markersize=12, color=color_cycle[i])\n",
    "    ax.invert_yaxis()\n",
    "    ax.set_xlabel('Temperature (K)')\n",
    "    ax.set_ylabel('Pressure (hPa)')\n",
    "    ax.grid()\n",
    "    return ax"
   ]
  },
  {
   "cell_type": "code",
   "execution_count": 100,
   "metadata": {},
   "outputs": [
    {
     "data": {
      "text/plain": [
       "<AxesSubplot:xlabel='Temperature (K)', ylabel='Pressure (hPa)'>"
      ]
     },
     "execution_count": 100,
     "metadata": {},
     "output_type": "execute_result"
    },
    {
     "data": {
      "image/png": "[encoded data removed]",
      "text/plain": [
       "<Figure size 432x288 with 1 Axes>"
      ]
     },
     "metadata": {
      "needs_background": "light"
     },
     "output_type": "display_data"
    }
   ],
   "source": [
    "plot_sounding(col)"
   ]
  },
  {
   "cell_type": "markdown",
   "metadata": {},
   "source": [
    "# Tune absorptivity to get observed OLR"
   ]
  },
  {
   "cell_type": "code",
   "execution_count": 101,
   "metadata": {},
   "outputs": [
    {
     "data": {
      "text/plain": [
       "array([263.15000167])"
      ]
     },
     "execution_count": 101,
     "metadata": {},
     "output_type": "execute_result"
    }
   ],
   "source": [
    "col.compute_diagnostics()\n",
    "col.diagnostics['OLR']"
   ]
  },
  {
   "cell_type": "code",
   "execution_count": 102,
   "metadata": {},
   "outputs": [],
   "source": [
    "# Need to tune absorptivity to get OLR = 239\n",
    "epsarray = np.linspace(0.01, 0.1, 100)\n",
    "OLRarray = np.zeros_like(epsarray)"
   ]
  },
  {
   "cell_type": "code",
   "execution_count": 103,
   "metadata": {},
   "outputs": [],
   "source": [
    "for i in range(epsarray.size):\n",
    "    col.subprocess['LW'].absorptivity = epsarray[i]\n",
    "    col.compute_diagnostics()\n",
    "    OLRarray[i] = col.diagnostics['OLR']"
   ]
  },
  {
   "cell_type": "code",
   "execution_count": 104,
   "metadata": {},
   "outputs": [
    {
     "data": {
      "image/png": "[encoded data removed]",
      "text/plain": [
       "<Figure size 432x288 with 1 Axes>"
      ]
     },
     "metadata": {
      "needs_background": "light"
     },
     "output_type": "display_data"
    }
   ],
   "source": [
    "plt.plot(epsarray, OLRarray)\n",
    "plt.grid()"
   ]
  },
  {
   "cell_type": "code",
   "execution_count": 105,
   "metadata": {},
   "outputs": [],
   "source": [
    "def OLRanom(eps):\n",
    "    col.subprocess['LW'].absorptivity = eps\n",
    "    col.compute_diagnostics()\n",
    "    return col.diagnostics['OLR'] - 239."
   ]
  },
  {
   "cell_type": "code",
   "execution_count": 106,
   "metadata": {},
   "outputs": [
    {
     "data": {
      "text/plain": [
       "array([78.43160417])"
      ]
     },
     "execution_count": 106,
     "metadata": {},
     "output_type": "execute_result"
    }
   ],
   "source": [
    "OLRanom(0.02)"
   ]
  },
  {
   "cell_type": "code",
   "execution_count": 107,
   "metadata": {},
   "outputs": [
    {
     "name": "stdout",
     "output_type": "stream",
     "text": [
      "0.05340318130919113\n"
     ]
    }
   ],
   "source": [
    "# Use numerical root-finding to get the equilibria\n",
    "from scipy.optimize import brentq\n",
    "# brentq is a root-finding function\n",
    "#  Need to give it a function and two end-points\n",
    "#  It will look for a zero of the function between those end-points\n",
    "eps = brentq(OLRanom, 0.01, 0.1)\n",
    "print (eps)"
   ]
  },
  {
   "cell_type": "code",
   "execution_count": 108,
   "metadata": {},
   "outputs": [
    {
     "data": {
      "text/plain": [
       "Field([0.05340318, 0.05340318, 0.05340318, 0.05340318, 0.05340318,\n",
       "       0.05340318, 0.05340318, 0.05340318, 0.05340318, 0.05340318,\n",
       "       0.05340318, 0.05340318, 0.05340318, 0.05340318, 0.05340318,\n",
       "       0.05340318, 0.05340318, 0.05340318, 0.05340318, 0.05340318,\n",
       "       0.05340318, 0.05340318, 0.05340318, 0.05340318, 0.05340318,\n",
       "       0.05340318, 0.05340318, 0.05340318, 0.05340318, 0.05340318])"
      ]
     },
     "execution_count": 108,
     "metadata": {},
     "output_type": "execute_result"
    }
   ],
   "source": [
    "col.subprocess['LW'].absorptivity = eps\n",
    "col.subprocess['LW'].absorptivity"
   ]
  },
  {
   "cell_type": "code",
   "execution_count": 109,
   "metadata": {},
   "outputs": [
    {
     "data": {
      "text/plain": [
       "array([239.])"
      ]
     },
     "execution_count": 109,
     "metadata": {},
     "output_type": "execute_result"
    }
   ],
   "source": [
    "col.compute_diagnostics()\n",
    "col.diagnostics['OLR']"
   ]
  },
  {
   "cell_type": "markdown",
   "metadata": {},
   "source": [
    "# Compute radiative forcing for a 2% increase in absorptivity"
   ]
  },
  {
   "cell_type": "code",
   "execution_count": 110,
   "metadata": {},
   "outputs": [
    {
     "name": "stdout",
     "output_type": "stream",
     "text": [
      "climlab Process of type <class 'climlab.model.column.GreyRadiationModel'>. \n",
      "State variables and domain shapes: \n",
      "  Ts: (1,) \n",
      "  Tatm: (30,) \n",
      "The subprocess tree: \n",
      "Untitled: <class 'climlab.model.column.GreyRadiationModel'>\n",
      "   LW: <class 'climlab.radiation.greygas.GreyGas'>\n",
      "   SW: <class 'climlab.radiation.greygas.GreyGasSW'>\n",
      "   insolation: <class 'climlab.radiation.insolation.FixedInsolation'>\n",
      "\n"
     ]
    }
   ],
   "source": [
    "col2 = climlab.process_like(col)\n",
    "print (col2)"
   ]
  },
  {
   "cell_type": "code",
   "execution_count": 111,
   "metadata": {},
   "outputs": [
    {
     "data": {
      "text/plain": [
       "Field([0.05447124, 0.05447124, 0.05447124, 0.05447124, 0.05447124,\n",
       "       0.05447124, 0.05447124, 0.05447124, 0.05447124, 0.05447124,\n",
       "       0.05447124, 0.05447124, 0.05447124, 0.05447124, 0.05447124,\n",
       "       0.05447124, 0.05447124, 0.05447124, 0.05447124, 0.05447124,\n",
       "       0.05447124, 0.05447124, 0.05447124, 0.05447124, 0.05447124,\n",
       "       0.05447124, 0.05447124, 0.05447124, 0.05447124, 0.05447124])"
      ]
     },
     "execution_count": 111,
     "metadata": {},
     "output_type": "execute_result"
    }
   ],
   "source": [
    "col2.subprocess['LW'].absorptivity *= 1.02\n",
    "col2.subprocess['LW'].absorptivity"
   ]
  },
  {
   "cell_type": "code",
   "execution_count": 112,
   "metadata": {},
   "outputs": [
    {
     "data": {
      "text/plain": [
       "array([237.15483194])"
      ]
     },
     "execution_count": 112,
     "metadata": {},
     "output_type": "execute_result"
    }
   ],
   "source": [
    "col2.compute_diagnostics()\n",
    "col2.diagnostics['OLR']"
   ]
  },
  {
   "cell_type": "code",
   "execution_count": 113,
   "metadata": {},
   "outputs": [
    {
     "data": {
      "text/plain": [
       "Field([0.])"
      ]
     },
     "execution_count": 113,
     "metadata": {},
     "output_type": "execute_result"
    }
   ],
   "source": [
    "col2.Ts - col.Ts"
   ]
  },
  {
   "cell_type": "code",
   "execution_count": 114,
   "metadata": {},
   "outputs": [
    {
     "data": {
      "text/plain": [
       "array([-1.84516806])"
      ]
     },
     "execution_count": 114,
     "metadata": {},
     "output_type": "execute_result"
    }
   ],
   "source": [
    "col2.diagnostics['OLR'] - col.diagnostics['OLR']"
   ]
  },
  {
   "cell_type": "code",
   "execution_count": 115,
   "metadata": {},
   "outputs": [
    {
     "name": "stdout",
     "output_type": "stream",
     "text": [
      "The radiative forcing is 1.845168 W/m2.\n"
     ]
    }
   ],
   "source": [
    "RF = -(col2.diagnostics['OLR'] - col.diagnostics['OLR'])\n",
    "print ('The radiative forcing is %f W/m2.' %RF)"
   ]
  },
  {
   "cell_type": "markdown",
   "metadata": {},
   "source": [
    "# Radiative equilibrium in the 30-layer model"
   ]
  },
  {
   "cell_type": "code",
   "execution_count": 116,
   "metadata": {},
   "outputs": [],
   "source": [
    "re = climlab.process_like(col)"
   ]
  },
  {
   "cell_type": "code",
   "execution_count": 117,
   "metadata": {},
   "outputs": [
    {
     "name": "stdout",
     "output_type": "stream",
     "text": [
      "Integrating for 730 steps, 730.4844 days, or 2.0 years.\n",
      "Total elapsed time is 1.9986737567564754 years.\n"
     ]
    }
   ],
   "source": [
    "re.integrate_years(2.)"
   ]
  },
  {
   "cell_type": "code",
   "execution_count": 118,
   "metadata": {},
   "outputs": [
    {
     "data": {
      "text/plain": [
       "Field([-4.52634367e-07])"
      ]
     },
     "execution_count": 118,
     "metadata": {},
     "output_type": "execute_result"
    }
   ],
   "source": [
    "#  Check for energy balance\n",
    "re.diagnostics['ASR'] - re.diagnostics['OLR']"
   ]
  },
  {
   "cell_type": "code",
   "execution_count": 119,
   "metadata": {},
   "outputs": [
    {
     "data": {
      "text/plain": [
       "<AxesSubplot:xlabel='Temperature (K)', ylabel='Pressure (hPa)'>"
      ]
     },
     "execution_count": 119,
     "metadata": {},
     "output_type": "execute_result"
    },
    {
     "data": {
      "image/png": "[encoded data removed]",
      "text/plain": [
       "<Figure size 432x288 with 1 Axes>"
      ]
     },
     "metadata": {
      "needs_background": "light"
     },
     "output_type": "display_data"
    }
   ],
   "source": [
    "plot_sounding([col, re])"
   ]
  },
  {
   "cell_type": "markdown",
   "metadata": {},
   "source": [
    "# Radiative-Convective equilibrium in the 30-layer model"
   ]
  },
  {
   "cell_type": "code",
   "execution_count": 120,
   "metadata": {},
   "outputs": [
    {
     "name": "stdout",
     "output_type": "stream",
     "text": [
      "climlab Process of type <class 'climlab.model.column.RadiativeConvectiveModel'>. \n",
      "State variables and domain shapes: \n",
      "  Ts: (1,) \n",
      "  Tatm: (30,) \n",
      "The subprocess tree: \n",
      "Untitled: <class 'climlab.model.column.RadiativeConvectiveModel'>\n",
      "   LW: <class 'climlab.radiation.greygas.GreyGas'>\n",
      "   SW: <class 'climlab.radiation.greygas.GreyGasSW'>\n",
      "   insolation: <class 'climlab.radiation.insolation.FixedInsolation'>\n",
      "   convective adjustment: <class 'climlab.convection.convadj.ConvectiveAdjustment'>\n",
      "\n"
     ]
    }
   ],
   "source": [
    "rce = climlab.RadiativeConvectiveModel(adj_lapse_rate=6.)\n",
    "print (rce)"
   ]
  },
  {
   "cell_type": "code",
   "execution_count": 121,
   "metadata": {},
   "outputs": [],
   "source": [
    "rce.subprocess['LW'].absorptivity = eps"
   ]
  },
  {
   "cell_type": "code",
   "execution_count": 122,
   "metadata": {},
   "outputs": [
    {
     "name": "stdout",
     "output_type": "stream",
     "text": [
      "Integrating for 730 steps, 730.4844 days, or 2.0 years.\n",
      "Total elapsed time is 1.9986737567564754 years.\n"
     ]
    }
   ],
   "source": [
    "rce.integrate_years(2.)"
   ]
  },
  {
   "cell_type": "code",
   "execution_count": 123,
   "metadata": {},
   "outputs": [
    {
     "data": {
      "text/plain": [
       "Field([1.91645699e-06])"
      ]
     },
     "execution_count": 123,
     "metadata": {},
     "output_type": "execute_result"
    }
   ],
   "source": [
    "#  Check for energy balance\n",
    "rce.diagnostics['ASR'] - rce.diagnostics['OLR']"
   ]
  },
  {
   "cell_type": "code",
   "execution_count": 124,
   "metadata": {},
   "outputs": [
    {
     "data": {
      "text/plain": [
       "<AxesSubplot:xlabel='Temperature (K)', ylabel='Pressure (hPa)'>"
      ]
     },
     "execution_count": 124,
     "metadata": {},
     "output_type": "execute_result"
    },
    {
     "data": {
      "image/png": "[encoded data removed]",
      "text/plain": [
       "<Figure size 432x288 with 1 Axes>"
      ]
     },
     "metadata": {
      "needs_background": "light"
     },
     "output_type": "display_data"
    }
   ],
   "source": [
    "plot_sounding([col, rce])"
   ]
  },
  {
   "cell_type": "markdown",
   "metadata": {},
   "source": [
    "# Greenhouse warming in RCE model"
   ]
  },
  {
   "cell_type": "code",
   "execution_count": 125,
   "metadata": {},
   "outputs": [],
   "source": [
    "# ANother 1% increase in absorptivity\n",
    "rce2 = climlab.process_like(rce)\n",
    "rce2.subprocess['LW'].absorptivity *= 1.02"
   ]
  },
  {
   "cell_type": "code",
   "execution_count": 126,
   "metadata": {},
   "outputs": [
    {
     "name": "stdout",
     "output_type": "stream",
     "text": [
      "The radiative forcing is 1.661031 W/m2.\n"
     ]
    }
   ],
   "source": [
    "rce2.compute_diagnostics()\n",
    "RF = -(rce2.diagnostics['OLR'] - rce.diagnostics['OLR'])\n",
    "print ('The radiative forcing is %f W/m2.' %RF)"
   ]
  },
  {
   "cell_type": "code",
   "execution_count": 127,
   "metadata": {},
   "outputs": [
    {
     "name": "stdout",
     "output_type": "stream",
     "text": [
      "Integrating for 730 steps, 730.4844 days, or 2.0 years.\n",
      "Total elapsed time is 3.997347513512951 years.\n"
     ]
    },
    {
     "data": {
      "text/plain": [
       "Field([9.8280168e-08])"
      ]
     },
     "execution_count": 127,
     "metadata": {},
     "output_type": "execute_result"
    }
   ],
   "source": [
    "#  Timestep forward, and the check for energy balance\n",
    "rce2.integrate_years(2.)\n",
    "rce2.diagnostics['ASR'] - rce2.diagnostics['OLR']"
   ]
  },
  {
   "cell_type": "code",
   "execution_count": 128,
   "metadata": {},
   "outputs": [
    {
     "data": {
      "text/plain": [
       "<AxesSubplot:xlabel='Temperature (K)', ylabel='Pressure (hPa)'>"
      ]
     },
     "execution_count": 128,
     "metadata": {},
     "output_type": "execute_result"
    },
    {
     "data": {
      "image/png": "[encoded data removed]",
      "text/plain": [
       "<Figure size 432x288 with 1 Axes>"
      ]
     },
     "metadata": {
      "needs_background": "light"
     },
     "output_type": "display_data"
    }
   ],
   "source": [
    "plot_sounding([col, rce, rce2])"
   ]
  },
  {
   "cell_type": "code",
   "execution_count": 129,
   "metadata": {},
   "outputs": [
    {
     "name": "stdout",
     "output_type": "stream",
     "text": [
      "Equilibrium climate sensitivity is 0.576940 K.\n"
     ]
    }
   ],
   "source": [
    "ECS = rce2.Ts - rce.Ts\n",
    "print ('Equilibrium climate sensitivity is %f K.' %ECS)"
   ]
  },
  {
   "cell_type": "code",
   "execution_count": 130,
   "metadata": {},
   "outputs": [
    {
     "name": "stdout",
     "output_type": "stream",
     "text": [
      "The net feedback is -2.879038 W/m2/K\n"
     ]
    }
   ],
   "source": [
    "# Calculate the net climate feedback\n",
    "#  This is the change in TOA flux per degree warming that was necessary to get back to equilibrium.\n",
    "feedback = -RF/ECS\n",
    "print ('The net feedback is %f W/m2/K' %feedback )"
   ]
  },
  {
   "cell_type": "code",
   "execution_count": 131,
   "metadata": {},
   "outputs": [],
   "source": [
    "#  could calculate a Planck feedback explicitly...\n",
    "#   What would the TOA flux change be if the warming were perfectly uniform?\n",
    "rce3 = climlab.process_like(rce)\n",
    "rce3.subprocess['LW'].absorptivity *= 1.02\n",
    "rce3.Ts += ECS\n",
    "rce3.Tatm += ECS"
   ]
  }
 ],
 "metadata": {
  "kernelspec": {
   "display_name": "Python 3",
   "language": "python",
   "name": "python3"
  },
  "language_info": {
   "codemirror_mode": {
    "name": "ipython",
    "version": 3
   },
   "file_extension": ".py",
   "mimetype": "text/x-python",
   "name": "python",
   "nbconvert_exporter": "python",
   "pygments_lexer": "ipython3",
   "version": "3.8.2"
  }
 },
 "nbformat": 4,
 "nbformat_minor": 1
}
